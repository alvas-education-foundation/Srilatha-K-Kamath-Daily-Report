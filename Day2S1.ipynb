{
  "nbformat": 4,
  "nbformat_minor": 0,
  "metadata": {
    "colab": {
      "name": "Day2S1.ipynb",
      "provenance": [],
      "collapsed_sections": [],
      "authorship_tag": "ABX9TyNYPC0SHbQmPXbkTtB4k5K3",
      "include_colab_link": true
    },
    "kernelspec": {
      "name": "python3",
      "display_name": "Python 3"
    }
  },
  "cells": [
    {
      "cell_type": "markdown",
      "metadata": {
        "id": "view-in-github",
        "colab_type": "text"
      },
      "source": [
        "<a href=\"https://colab.research.google.com/github/alvas-education-foundation/Srilatha-K-Kamath-Daily-Report/blob/master/Day2S1.ipynb\" target=\"_parent\"><img src=\"https://colab.research.google.com/assets/colab-badge.svg\" alt=\"Open In Colab\"/></a>"
      ]
    },
    {
      "cell_type": "markdown",
      "metadata": {
        "id": "WtgzEqoh_Z6S",
        "colab_type": "text"
      },
      "source": [
        "**Examples**"
      ]
    },
    {
      "cell_type": "markdown",
      "metadata": {
        "id": "HiKJ8YGB48Oc",
        "colab_type": "text"
      },
      "source": [
        "Program to find the largest number in a list.\n"
      ]
    },
    {
      "cell_type": "code",
      "metadata": {
        "id": "v1Dm-pwt4lYt",
        "colab_type": "code",
        "outputId": "6ecb71b6-91b0-4129-a64a-6b20e8f8da4f",
        "colab": {
          "base_uri": "https://localhost:8080/",
          "height": 127
        }
      },
      "source": [
        "a=[]\n",
        "n=int(input(\"Enter number of elements:\"))\n",
        "for i in range(1,n+1):\n",
        "    b=int(input(\"Enter element:\"))\n",
        "    a.append(b)\n",
        "a.sort()\n",
        "print(\"Largest element is:\",a[n-1])\n"
      ],
      "execution_count": 0,
      "outputs": [
        {
          "output_type": "stream",
          "text": [
            "Enter number of elements:4\n",
            "Enter element:1\n",
            "Enter element:5\n",
            "Enter element:3\n",
            "Enter element:8\n",
            "Largest element is: 8\n"
          ],
          "name": "stdout"
        }
      ]
    },
    {
      "cell_type": "markdown",
      "metadata": {
        "id": "8Zqh_d8b53O8",
        "colab_type": "text"
      },
      "source": [
        "Python Program to put the even and odd elements in a list into two different lists. \n"
      ]
    },
    {
      "cell_type": "code",
      "metadata": {
        "id": "JZsbmOOG5-z6",
        "colab_type": "code",
        "outputId": "d61ab88c-5d39-45fc-fb3f-1be63ffc9264",
        "colab": {
          "base_uri": "https://localhost:8080/",
          "height": 146
        }
      },
      "source": [
        "a=[]\n",
        "n=int(input(\"Enter number of elements:\"))\n",
        "for i in range(1,n+1):\n",
        "    b=int(input(\"Enter element:\"))\n",
        "    a.append(b)\n",
        "even=[]\n",
        "odd=[]\n",
        "for j in a:\n",
        "    if(j%2==0):\n",
        "        even.append(j)\n",
        "    else:\n",
        "        odd.append(j)\n",
        "print(\"The even list\",even)\n",
        "print(\"The odd list\",odd)\n"
      ],
      "execution_count": 0,
      "outputs": [
        {
          "output_type": "stream",
          "text": [
            "Enter number of elements:4\n",
            "Enter element:1\n",
            "Enter element:2\n",
            "Enter element:3\n",
            "Enter element:4\n",
            "The even list [2, 4]\n",
            "The odd list [1, 3]\n"
          ],
          "name": "stdout"
        }
      ]
    },
    {
      "cell_type": "markdown",
      "metadata": {
        "id": "eZKLeLZQ6Oe8",
        "colab_type": "text"
      },
      "source": [
        "Python Program to merge two lists and sort it.\n"
      ]
    },
    {
      "cell_type": "code",
      "metadata": {
        "id": "t3L755oO6UKr",
        "colab_type": "code",
        "outputId": "6a1d7620-485a-44ed-a723-172c27cfbc73",
        "colab": {
          "base_uri": "https://localhost:8080/",
          "height": 146
        }
      },
      "source": [
        "a=[]\n",
        "c=[]\n",
        "n1=int(input(\"Enter number of elements:\"))\n",
        "for i in range(1,n1+1):\n",
        "    b=int(input(\"Enter element:\"))\n",
        "    a.append(b)\n",
        "n2=int(input(\"Enter number of elements:\"))\n",
        "for i in range(1,n2+1):\n",
        "    d=int(input(\"Enter element:\"))\n",
        "    c.append(d)\n",
        "new=a+c\n",
        "new.sort()\n",
        "print(\"Sorted list is:\",new)\n"
      ],
      "execution_count": 0,
      "outputs": [
        {
          "output_type": "stream",
          "text": [
            "Enter number of elements:2\n",
            "Enter element:1\n",
            "Enter element:2\n",
            "Enter number of elements:2\n",
            "Enter element:3\n",
            "Enter element:4\n",
            "Sorted list is: [1, 2, 3, 4]\n"
          ],
          "name": "stdout"
        }
      ]
    },
    {
      "cell_type": "markdown",
      "metadata": {
        "id": "AroMlERY6etr",
        "colab_type": "text"
      },
      "source": [
        "Python Program to sort the list according to the second element in the sublist.\n"
      ]
    },
    {
      "cell_type": "code",
      "metadata": {
        "id": "1x0TEpht6kpl",
        "colab_type": "code",
        "outputId": "8c375668-84ce-4aec-bcd0-8f8f1664d314",
        "colab": {
          "base_uri": "https://localhost:8080/",
          "height": 35
        }
      },
      "source": [
        "a=[['A',34],['B',21],['C',26],['E',29]]\n",
        "for i in range(0,len(a)):\n",
        "    for j in range(i+1,len(a)):\n",
        "        if(a[i][1]>a[j][1]):\n",
        "            temp=a[j]\n",
        "            a[j]=a[i]\n",
        "            a[i]=temp\n",
        "print(a)"
      ],
      "execution_count": 0,
      "outputs": [
        {
          "output_type": "stream",
          "text": [
            "[['B', 21], ['C', 26], ['E', 29], ['A', 34]]\n"
          ],
          "name": "stdout"
        }
      ]
    },
    {
      "cell_type": "markdown",
      "metadata": {
        "id": "ZRWHqgJx6xeY",
        "colab_type": "text"
      },
      "source": [
        "Python Program to find the second largest number in a list using bubble sort. \n"
      ]
    },
    {
      "cell_type": "code",
      "metadata": {
        "id": "PxD1AWgL61wW",
        "colab_type": "code",
        "outputId": "6266fa1c-d73b-4292-c61b-0eca67579a91",
        "colab": {
          "base_uri": "https://localhost:8080/",
          "height": 127
        }
      },
      "source": [
        "a=[]\n",
        "n=int(input(\"Enter number of elements:\"))\n",
        "for i in range(1,n+1):\n",
        "    b=int(input(\"Enter element:\"))\n",
        "    a.append(b)\n",
        "for i in range(0,len(a)):\n",
        "    for j in range(0,len(a)-i-1):\n",
        "        if(a[j]>a[j+1]):\n",
        "            temp=a[j]\n",
        "            a[j]=a[j+1]\n",
        "            a[j+1]=temp \n",
        "print('Second largest number is:',a[n-2])\n"
      ],
      "execution_count": 0,
      "outputs": [
        {
          "output_type": "stream",
          "text": [
            "Enter number of elements:4\n",
            "Enter element:1\n",
            "Enter element:3\n",
            "Enter element:2\n",
            "Enter element:4\n",
            "Second largest number is: 3\n"
          ],
          "name": "stdout"
        }
      ]
    },
    {
      "cell_type": "markdown",
      "metadata": {
        "id": "D-2R4PIC7ORh",
        "colab_type": "text"
      },
      "source": [
        "Program to create a list of tuples with the first element as the number and the second element as the square of the number. "
      ]
    },
    {
      "cell_type": "code",
      "metadata": {
        "id": "Gan7ma617VVO",
        "colab_type": "code",
        "outputId": "2cd12c03-7dc8-43dc-84e1-29b525b1b5f6",
        "colab": {
          "base_uri": "https://localhost:8080/",
          "height": 72
        }
      },
      "source": [
        "l_range=int(input(\"Enter the lower range:\"))\n",
        "u_range=int(input(\"Enter the upper range:\"))\n",
        "a=[(x,x**2) for x in range(l_range,u_range+1)]\n",
        "print(a)\n"
      ],
      "execution_count": 0,
      "outputs": [
        {
          "output_type": "stream",
          "text": [
            "Enter the lower range:5\n",
            "Enter the upper range:10\n",
            "[(5, 25), (6, 36), (7, 49), (8, 64), (9, 81), (10, 100)]\n"
          ],
          "name": "stdout"
        }
      ]
    },
    {
      "cell_type": "markdown",
      "metadata": {
        "id": "8QcFt_wE7hy3",
        "colab_type": "text"
      },
      "source": [
        "Python Program to generate random numbers from 1 to 20 and append them to the list.\n"
      ]
    },
    {
      "cell_type": "code",
      "metadata": {
        "id": "vLMNWJ7s7lty",
        "colab_type": "code",
        "outputId": "cb44d9ce-1c2d-4312-9f08-8a041b67cefb",
        "colab": {
          "base_uri": "https://localhost:8080/",
          "height": 54
        }
      },
      "source": [
        "import random\n",
        "a=[]\n",
        "n=int(input(\"Enter number of elements:\"))\n",
        "for j in range(n):\n",
        "    a.append(random.randint(1,20))\n",
        "print('Randomised list is: ',a)\n"
      ],
      "execution_count": 0,
      "outputs": [
        {
          "output_type": "stream",
          "text": [
            "Enter number of elements:20\n",
            "Randomised list is:  [7, 19, 3, 13, 7, 15, 17, 16, 20, 13, 9, 10, 3, 11, 8, 19, 2, 18, 17, 8]\n"
          ],
          "name": "stdout"
        }
      ]
    },
    {
      "cell_type": "markdown",
      "metadata": {
        "id": "rP4uwt6s7uQH",
        "colab_type": "text"
      },
      "source": [
        "List Exercises:\n"
      ]
    },
    {
      "cell_type": "markdown",
      "metadata": {
        "id": "pcQ4OPCq-pCA",
        "colab_type": "text"
      },
      "source": [
        "Print multiples of 3 upto 200 using a list\n"
      ]
    },
    {
      "cell_type": "code",
      "metadata": {
        "id": "jF2q5Sqj-r1K",
        "colab_type": "code",
        "outputId": "1a59e45b-bb95-4de2-d2db-6fa32f6ae93a",
        "colab": {
          "base_uri": "https://localhost:8080/",
          "height": 56
        }
      },
      "source": [
        "lst=[i for i in range(0,200,3)]\n",
        "print(lst)"
      ],
      "execution_count": 0,
      "outputs": [
        {
          "output_type": "stream",
          "text": [
            "[0, 3, 6, 9, 12, 15, 18, 21, 24, 27, 30, 33, 36, 39, 42, 45, 48, 51, 54, 57, 60, 63, 66, 69, 72, 75, 78, 81, 84, 87, 90, 93, 96, 99, 102, 105, 108, 111, 114, 117, 120, 123, 126, 129, 132, 135, 138, 141, 144, 147, 150, 153, 156, 159, 162, 165, 168, 171, 174, 177, 180, 183, 186, 189, 192, 195, 198]\n"
          ],
          "name": "stdout"
        }
      ]
    },
    {
      "cell_type": "markdown",
      "metadata": {
        "id": "NUnm7sz9FQoA",
        "colab_type": "text"
      },
      "source": [
        "print the nos only divisible by 5 and 7 between 1000 and 2000 using a list( both inclusive)"
      ]
    },
    {
      "cell_type": "code",
      "metadata": {
        "id": "zwfdxtUfFx7j",
        "colab_type": "code",
        "outputId": "39e569b4-8fa7-4319-bf83-dd097b338344",
        "colab": {
          "base_uri": "https://localhost:8080/",
          "height": 56
        }
      },
      "source": [
        "lst=[i for i in range(1000,2001) if(i%5==0 and i%7==0)]\n",
        "print(lst)"
      ],
      "execution_count": 0,
      "outputs": [
        {
          "output_type": "stream",
          "text": [
            "[1015, 1050, 1085, 1120, 1155, 1190, 1225, 1260, 1295, 1330, 1365, 1400, 1435, 1470, 1505, 1540, 1575, 1610, 1645, 1680, 1715, 1750, 1785, 1820, 1855, 1890, 1925, 1960, 1995]\n"
          ],
          "name": "stdout"
        }
      ]
    },
    {
      "cell_type": "markdown",
      "metadata": {
        "id": "-4eqMtkarCo1",
        "colab_type": "text"
      },
      "source": [
        "Add the n number of names in a list and print them alphabetically and reverse alphabetically."
      ]
    },
    {
      "cell_type": "code",
      "metadata": {
        "id": "J8ZR70D5rKCX",
        "colab_type": "code",
        "outputId": "b5bb97b1-0948-4abc-eefe-93607781c8ca",
        "colab": {
          "base_uri": "https://localhost:8080/",
          "height": 148
        }
      },
      "source": [
        "names=[]\n",
        "n=int(input('Enter n:'))\n",
        "for i in range(0,n):\n",
        "  name=input('Enter name:')\n",
        "  names.append(name)\n",
        "print('The list is:',names)\n",
        "alphlist=sorted(names,reverse=False)\n",
        "print('Names in alphabetical order:',alphlist)\n",
        "revlist=sorted(names,reverse=True)\n",
        "print('Names in reverse alphabetical order:',revlist)"
      ],
      "execution_count": 0,
      "outputs": [
        {
          "output_type": "stream",
          "text": [
            "Enter n:3\n",
            "Enter name:Srilatha\n",
            "Enter name:Rousha\n",
            "Enter name:Shaifa\n",
            "The list is: ['Srilatha', 'Rousha', 'Shaifa']\n",
            "Names in alphabetical order: ['Rousha', 'Shaifa', 'Srilatha']\n",
            "Names in reverse alphabetical order: ['Srilatha', 'Shaifa', 'Rousha']\n"
          ],
          "name": "stdout"
        }
      ]
    },
    {
      "cell_type": "markdown",
      "metadata": {
        "id": "r17L9fbsuhis",
        "colab_type": "text"
      },
      "source": [
        "Print  perfect squares divisible by 5 between 500 and 1000( (both inclusive) using list\n"
      ]
    },
    {
      "cell_type": "code",
      "metadata": {
        "id": "E9Q3b3iE1Rwb",
        "colab_type": "code",
        "outputId": "75867a10-437d-40b9-d870-e16732dd6ac4",
        "colab": {
          "base_uri": "https://localhost:8080/",
          "height": 56
        }
      },
      "source": [
        "lst=[i*i for i in range(500,1001) if i%5==0]\n",
        "print(lst)"
      ],
      "execution_count": 0,
      "outputs": [
        {
          "output_type": "stream",
          "text": [
            "[250000, 255025, 260100, 265225, 270400, 275625, 280900, 286225, 291600, 297025, 302500, 308025, 313600, 319225, 324900, 330625, 336400, 342225, 348100, 354025, 360000, 366025, 372100, 378225, 384400, 390625, 396900, 403225, 409600, 416025, 422500, 429025, 435600, 442225, 448900, 455625, 462400, 469225, 476100, 483025, 490000, 497025, 504100, 511225, 518400, 525625, 532900, 540225, 547600, 555025, 562500, 570025, 577600, 585225, 592900, 600625, 608400, 616225, 624100, 632025, 640000, 648025, 656100, 664225, 672400, 680625, 688900, 697225, 705600, 714025, 722500, 731025, 739600, 748225, 756900, 765625, 774400, 783225, 792100, 801025, 810000, 819025, 828100, 837225, 846400, 855625, 864900, 874225, 883600, 893025, 902500, 912025, 921600, 931225, 940900, 950625, 960400, 970225, 980100, 990025, 1000000]\n"
          ],
          "name": "stdout"
        }
      ]
    },
    {
      "cell_type": "markdown",
      "metadata": {
        "id": "KHxvDvCS35UK",
        "colab_type": "text"
      },
      "source": [
        "**Tuple Examples**"
      ]
    },
    {
      "cell_type": "markdown",
      "metadata": {
        "id": "0dUq2ulc3-UA",
        "colab_type": "text"
      },
      "source": [
        "Write python program to have a list of words  to sort them from longest to shortest using list of tuples"
      ]
    },
    {
      "cell_type": "code",
      "metadata": {
        "id": "Ai-L-YEX4COV",
        "colab_type": "code",
        "outputId": "b93f3581-eb7c-49e4-d48b-3e1999ef3b9b",
        "colab": {
          "base_uri": "https://localhost:8080/",
          "height": 36
        }
      },
      "source": [
        "txt = 'but soft what light in yonder window breaks'\n",
        "words = txt.split()\n",
        "t = list()\n",
        "for word in words:\n",
        "   t.append((len(word), word))\n",
        "t.sort(reverse=True)\n",
        "\n",
        "res = list()\n",
        "for length, word in t:\n",
        "    res.append(word)\n",
        "\n",
        "print(res)"
      ],
      "execution_count": 0,
      "outputs": [
        {
          "output_type": "stream",
          "text": [
            "['yonder', 'window', 'breaks', 'light', 'what', 'soft', 'but', 'in']\n"
          ],
          "name": "stdout"
        }
      ]
    },
    {
      "cell_type": "markdown",
      "metadata": {
        "id": "zndsvnV44Sgr",
        "colab_type": "text"
      },
      "source": [
        "Python program that assigns variables"
      ]
    },
    {
      "cell_type": "code",
      "metadata": {
        "id": "OWqUaUnp4ZBz",
        "colab_type": "code",
        "outputId": "63282b17-f4a3-4e08-e414-916f5fbe5b78",
        "colab": {
          "base_uri": "https://localhost:8080/",
          "height": 54
        }
      },
      "source": [
        "pair = (\"dog\", \"cat\")\n",
        "\n",
        "# Unpack tuple.\n",
        "(key, value) = pair\n",
        "\n",
        "# Display unpacked variables.\n",
        "print(key)\n",
        "print(value)"
      ],
      "execution_count": 0,
      "outputs": [
        {
          "output_type": "stream",
          "text": [
            "dog\n",
            "cat\n"
          ],
          "name": "stdout"
        }
      ]
    },
    {
      "cell_type": "markdown",
      "metadata": {
        "id": "EEtWZI-I4ipl",
        "colab_type": "text"
      },
      "source": [
        "Python program that searches tuples"
      ]
    },
    {
      "cell_type": "code",
      "metadata": {
        "id": "IoFRDlm04nfN",
        "colab_type": "code",
        "outputId": "9b57c88f-5f0b-4fdc-bfc7-8a5ed70db5b7",
        "colab": {
          "base_uri": "https://localhost:8080/",
          "height": 54
        }
      },
      "source": [
        "pair = (\"dog\", \"cat\")\n",
        "\n",
        "# Search for a value.\n",
        "if \"cat\" in pair:\n",
        "    print(\"Cat found\")\n",
        "\n",
        "# Search for a value not present.\n",
        "if \"bird\" not in pair:\n",
        "    print(\"Bird not found\")"
      ],
      "execution_count": 0,
      "outputs": [
        {
          "output_type": "stream",
          "text": [
            "Cat found\n",
            "Bird not found\n"
          ],
          "name": "stdout"
        }
      ]
    },
    {
      "cell_type": "markdown",
      "metadata": {
        "id": "1rzsG1x34tDg",
        "colab_type": "text"
      },
      "source": [
        "**Tuple Exercises**"
      ]
    },
    {
      "cell_type": "markdown",
      "metadata": {
        "id": "hndn-Et44wvI",
        "colab_type": "text"
      },
      "source": [
        "Get  a string and store word by word as elements in a tuple and find the largest word in the  tuple and print it"
      ]
    },
    {
      "cell_type": "code",
      "metadata": {
        "id": "ko4pREoj41cn",
        "colab_type": "code",
        "outputId": "ec479df1-de09-4e9a-b3d8-1735e571ccac",
        "colab": {
          "base_uri": "https://localhost:8080/",
          "height": 129
        }
      },
      "source": [
        "a=[]\n",
        "n= int(input(\"Enter the number of elements in list:\"))\n",
        "for x in range(0,n):\n",
        "    element=input(\"Enter element\" + str(x+1) + \":\")\n",
        "    a.append(element)\n",
        "max1=len(a[0])\n",
        "temp=a[0]\n",
        "for i in a:\n",
        "    if(len(i)>max1):\n",
        "       max1=len(i)\n",
        "       temp=i\n",
        "print(\"The word with the longest length is:\")\n",
        "print(temp)\n",
        "  \n"
      ],
      "execution_count": 0,
      "outputs": [
        {
          "output_type": "stream",
          "text": [
            "Enter the number of elements in list:3\n",
            "Enter element1:Rousha\n",
            "Enter element2:Shaifa\n",
            "Enter element3:Srilatha\n",
            "The word with the longest length is:\n",
            "Srilatha\n"
          ],
          "name": "stdout"
        }
      ]
    },
    {
      "cell_type": "markdown",
      "metadata": {
        "id": "pO46o01OEdjf",
        "colab_type": "text"
      },
      "source": [
        "get rollno and marks (Rollno, mark) as list of tuples for n number of students through keyboard  and print them in marks descending order with rollno"
      ]
    },
    {
      "cell_type": "code",
      "metadata": {
        "id": "AMbl6H6pEgCO",
        "colab_type": "code",
        "outputId": "8512f547-ba7d-4508-87f4-11f50b368b20",
        "colab": {
          "base_uri": "https://localhost:8080/",
          "height": 129
        }
      },
      "source": [
        "import operator\n",
        "n=int(input('Enter n:'))\n",
        "d={}\n",
        "for i in range(0,n):\n",
        "  name=input('Enter student name:')\n",
        "  marks=input('Enter marks:')\n",
        "  d[name]=marks\n",
        "t=list(d.items())\n",
        "lst=sorted(t,key=operator.itemgetter(1),reverse=True)\n",
        "print(lst)\n"
      ],
      "execution_count": 0,
      "outputs": [
        {
          "output_type": "stream",
          "text": [
            "Enter n:2\n",
            "Enter student name:Krishna\n",
            "Enter marks:24\n",
            "Enter student name:Radha\n",
            "Enter marks:21\n",
            "[('Krishna', '24'), ('Radha', '21')]\n"
          ],
          "name": "stdout"
        }
      ]
    },
    {
      "cell_type": "markdown",
      "metadata": {
        "id": "CJRZCE-JMBtj",
        "colab_type": "text"
      },
      "source": [
        "Get name and salary (name, salary) as list of tuples for n number of employees through keyboard  and print them in name alphabetical order with salary"
      ]
    },
    {
      "cell_type": "code",
      "metadata": {
        "id": "fZh_G7MsMDYn",
        "colab_type": "code",
        "outputId": "c72b5282-f8bd-4e95-c235-22c929e89c26",
        "colab": {
          "base_uri": "https://localhost:8080/",
          "height": 129
        }
      },
      "source": [
        "import operator\n",
        "n=int(input('Enter n:'))\n",
        "d={}\n",
        "for i in range(0,n):\n",
        "  name=input('Enter employee name:')\n",
        "  salary=input('Enter salary:')\n",
        "  d[name]=salary\n",
        "t=list(d.items())\n",
        "lst=sorted(t,key=operator.itemgetter(1),reverse=False)\n",
        "print(lst)\n"
      ],
      "execution_count": 0,
      "outputs": [
        {
          "output_type": "stream",
          "text": [
            "Enter n:2\n",
            "Enter employee name:Krishna\n",
            "Enter salary:25000\n",
            "Enter employee name:Radha\n",
            "Enter salary:50000\n",
            "[('Krishna', '25000'), ('Radha', '50000')]\n"
          ],
          "name": "stdout"
        }
      ]
    }
  ]
}