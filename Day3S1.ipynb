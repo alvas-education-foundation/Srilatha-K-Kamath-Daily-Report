{
  "nbformat": 4,
  "nbformat_minor": 0,
  "metadata": {
    "colab": {
      "name": "Day3S1.ipynb",
      "provenance": [],
      "authorship_tag": "ABX9TyMtvAxfcsX+i1riLvwpFMH0",
      "include_colab_link": true
    },
    "kernelspec": {
      "name": "python3",
      "display_name": "Python 3"
    }
  },
  "cells": [
    {
      "cell_type": "markdown",
      "metadata": {
        "id": "view-in-github",
        "colab_type": "text"
      },
      "source": [
        "<a href=\"https://colab.research.google.com/github/alvas-education-foundation/Srilatha-K-Kamath-Daily-Report/blob/master/Day3S1.ipynb\" target=\"_parent\"><img src=\"https://colab.research.google.com/assets/colab-badge.svg\" alt=\"Open In Colab\"/></a>"
      ]
    },
    {
      "cell_type": "code",
      "metadata": {
        "id": "PrFCIbCrtwRX",
        "colab_type": "code",
        "colab": {
          "base_uri": "https://localhost:8080/",
          "height": 241
        },
        "outputId": "913bc74a-cfdf-4418-85a1-8a99f836f91d"
      },
      "source": [
        "#1.Write a Pandas program to create and display a one-dimensional array using series containing event numbers upto 10000\n",
        "#tip : use List Comprehension ds = pd.Series([0,2, 4, 6, 8..... 10000])\n",
        "import pandas as pd\n",
        "ds = pd.Series([x for x in range(1000) if x%2==0])\n",
        "print(ds)"
      ],
      "execution_count": 1,
      "outputs": [
        {
          "output_type": "stream",
          "text": [
            "0        0\n",
            "1        2\n",
            "2        4\n",
            "3        6\n",
            "4        8\n",
            "      ... \n",
            "495    990\n",
            "496    992\n",
            "497    994\n",
            "498    996\n",
            "499    998\n",
            "Length: 500, dtype: int64\n"
          ],
          "name": "stdout"
        }
      ]
    },
    {
      "cell_type": "code",
      "metadata": {
        "id": "R2le7S1IuFeE",
        "colab_type": "code",
        "colab": {
          "base_uri": "https://localhost:8080/",
          "height": 241
        },
        "outputId": "77568909-7f64-464a-e325-edc2e3d3b505"
      },
      "source": [
        "#2.Write a Pandas program to convert a Panda module Series of the numbers which are between 1000 and 2000 (both inclusive) and divisable by 5 to Python list and after convertion print its type\n",
        "#Code:-\n",
        "import pandas as pd\n",
        "ds = pd.Series([x for x in range(1000,2000) if x%5==0])\n",
        "print(ds)"
      ],
      "execution_count": 2,
      "outputs": [
        {
          "output_type": "stream",
          "text": [
            "0      1000\n",
            "1      1005\n",
            "2      1010\n",
            "3      1015\n",
            "4      1020\n",
            "       ... \n",
            "195    1975\n",
            "196    1980\n",
            "197    1985\n",
            "198    1990\n",
            "199    1995\n",
            "Length: 200, dtype: int64\n"
          ],
          "name": "stdout"
        }
      ]
    },
    {
      "cell_type": "code",
      "metadata": {
        "id": "wBBX_J2wuOnJ",
        "colab_type": "code",
        "colab": {
          "base_uri": "https://localhost:8080/",
          "height": 241
        },
        "outputId": "dffdf185-27a4-4b5e-9640-03dd7ae26dde"
      },
      "source": [
        "#Exercises\n",
        "#1.Write a Pandas program to create and display a one-dimensional array using series containing event numbers upto 10000\n",
        "\n",
        "import pandas as pd\n",
        "ds = pd.Series([x for x in range(1000) if x%2==0])\n",
        "print(ds)"
      ],
      "execution_count": 3,
      "outputs": [
        {
          "output_type": "stream",
          "text": [
            "0        0\n",
            "1        2\n",
            "2        4\n",
            "3        6\n",
            "4        8\n",
            "      ... \n",
            "495    990\n",
            "496    992\n",
            "497    994\n",
            "498    996\n",
            "499    998\n",
            "Length: 500, dtype: int64\n"
          ],
          "name": "stdout"
        }
      ]
    },
    {
      "cell_type": "code",
      "metadata": {
        "id": "q4QQxMcZufpD",
        "colab_type": "code",
        "colab": {
          "base_uri": "https://localhost:8080/",
          "height": 241
        },
        "outputId": "ce53b22d-58c1-4a65-be69-2e14ae1a7fb7"
      },
      "source": [
        "#2.Write a Pandas program to convert a Panda module Series of the numbers which are between 1000 and 2000 (both inclusive) and divisable by 5 to Python list and after convertion print its type\n",
        "import pandas as pd\n",
        "ds = pd.Series([x for x in range(1000,2000) if x%5==0])\n",
        "print(ds)"
      ],
      "execution_count": 4,
      "outputs": [
        {
          "output_type": "stream",
          "text": [
            "0      1000\n",
            "1      1005\n",
            "2      1010\n",
            "3      1015\n",
            "4      1020\n",
            "       ... \n",
            "195    1975\n",
            "196    1980\n",
            "197    1985\n",
            "198    1990\n",
            "199    1995\n",
            "Length: 200, dtype: int64\n"
          ],
          "name": "stdout"
        }
      ]
    },
    {
      "cell_type": "code",
      "metadata": {
        "id": "4gbXl9EJuo9c",
        "colab_type": "code",
        "colab": {
          "base_uri": "https://localhost:8080/",
          "height": 541
        },
        "outputId": "2b593e43-f6bb-4c70-ba61-32a95f29d218"
      },
      "source": [
        "'''3.Write a Pandas program to add, subtract, multiple and divide two Pandas Series and print their results using the Sample Series: [2, 4, 6, 8, ...100], [1, 3, 5, 7, 9...99]'''\n",
        "import pandas as pd\n",
        "ds1 = pd.Series([2, 4, 6, 8, 10])\n",
        "ds2 = pd.Series([1, 3, 5, 7, 9])\n",
        "ds = ds1 + ds2\n",
        "print(\"Add two Series:\")\n",
        "print(ds)\n",
        "print(\"Subtract two Series:\")\n",
        "ds = ds1 - ds2\n",
        "print(ds)\n",
        "print(\"Multiply two Series:\")\n",
        "ds = ds1 * ds2\n",
        "print(ds)\n",
        "print(\"Divide Series1 by Series2:\")\n",
        "ds = ds1 / ds2\n",
        "print(ds)"
      ],
      "execution_count": 5,
      "outputs": [
        {
          "output_type": "stream",
          "text": [
            "Add two Series:\n",
            "0     3\n",
            "1     7\n",
            "2    11\n",
            "3    15\n",
            "4    19\n",
            "dtype: int64\n",
            "Subtract two Series:\n",
            "0    1\n",
            "1    1\n",
            "2    1\n",
            "3    1\n",
            "4    1\n",
            "dtype: int64\n",
            "Multiply two Series:\n",
            "0     2\n",
            "1    12\n",
            "2    30\n",
            "3    56\n",
            "4    90\n",
            "dtype: int64\n",
            "Divide Series1 by Series2:\n",
            "0    2.000000\n",
            "1    1.333333\n",
            "2    1.200000\n",
            "3    1.142857\n",
            "4    1.111111\n",
            "dtype: float64\n"
          ],
          "name": "stdout"
        }
      ]
    },
    {
      "cell_type": "code",
      "metadata": {
        "id": "7MPEdjW-u0ih",
        "colab_type": "code",
        "colab": {
          "base_uri": "https://localhost:8080/",
          "height": 690
        },
        "outputId": "be91a981-2e8a-40f2-f53c-8bd9861028a4"
      },
      "source": [
        "'''4.Write a Pandas program to compare (Equivalence, greater than, less than, not equal to )the elements of the two Pandas Series.\n",
        "Sample Series: [All positive numbers divisable by 7 upto 1000], [All positive numbers divisable by 11 upto 1000]'''\n",
        "import pandas as pd\n",
        "ds1 = pd.Series([2, 4, 6, 8, 10])\n",
        "ds2 = pd.Series([1, 3, 5, 7, 10])\n",
        "print(\"Series1:\")\n",
        "print(ds1)\n",
        "print(\"Series2:\")\n",
        "print(ds2)\n",
        "print(\"Compare the elements of the said Series:\")\n",
        "print(\"Equals:\")\n",
        "print(ds1 == ds2)\n",
        "print(\"Greater than:\")\n",
        "print(ds1 > ds2)\n",
        "print(\"Less than:\")\n",
        "print(ds1 < ds2)"
      ],
      "execution_count": 7,
      "outputs": [
        {
          "output_type": "stream",
          "text": [
            "Series1:\n",
            "0     2\n",
            "1     4\n",
            "2     6\n",
            "3     8\n",
            "4    10\n",
            "dtype: int64\n",
            "Series2:\n",
            "0     1\n",
            "1     3\n",
            "2     5\n",
            "3     7\n",
            "4    10\n",
            "dtype: int64\n",
            "Compare the elements of the said Series:\n",
            "Equals:\n",
            "0    False\n",
            "1    False\n",
            "2    False\n",
            "3    False\n",
            "4     True\n",
            "dtype: bool\n",
            "Greater than:\n",
            "0     True\n",
            "1     True\n",
            "2     True\n",
            "3     True\n",
            "4    False\n",
            "dtype: bool\n",
            "Less than:\n",
            "0    False\n",
            "1    False\n",
            "2    False\n",
            "3    False\n",
            "4    False\n",
            "dtype: bool\n"
          ],
          "name": "stdout"
        }
      ]
    },
    {
      "cell_type": "code",
      "metadata": {
        "id": "rvKnt77fvEcq",
        "colab_type": "code",
        "colab": {
          "base_uri": "https://localhost:8080/",
          "height": 185
        },
        "outputId": "e3775b7f-7568-4690-e515-b942e03df08f"
      },
      "source": [
        "''''5.Write a Pandas program to convert a NumPy array to a Pandas series.\n",
        "Sample NumPy array: d1 = [10, 20, 30, 40, 50... 1000]'''\n",
        "import numpy as np\n",
        "import pandas as pd\n",
        "np_array = np.array([10, 20, 30, 40, 50])\n",
        "print(\"NumPy array:\")\n",
        "print(np_array)\n",
        "new_series = pd.Series(np_array)\n",
        "print(\"Converted Pandas series:\")\n",
        "print(new_series)"
      ],
      "execution_count": 9,
      "outputs": [
        {
          "output_type": "stream",
          "text": [
            "NumPy array:\n",
            "[10 20 30 40 50]\n",
            "Converted Pandas series:\n",
            "0    10\n",
            "1    20\n",
            "2    30\n",
            "3    40\n",
            "4    50\n",
            "dtype: int64\n"
          ],
          "name": "stdout"
        }
      ]
    },
    {
      "cell_type": "code",
      "metadata": {
        "id": "we_2dOLbvXa9",
        "colab_type": "code",
        "colab": {
          "base_uri": "https://localhost:8080/",
          "height": 316
        },
        "outputId": "1eeda50c-257e-4a61-f303-128af487c9cd"
      },
      "source": [
        "'''6.Write a Pandas program to convert a given Series to an array.\n",
        "Sample series is ['100', '200', ‘300’,’400’,’500’,'python', '300.12', '400',’is’,’great’,’language’]'''\n",
        "import pandas as pd\n",
        "import numpy as np\n",
        "s1 = pd.Series(['100', '200', '300','400','500','python', '300.12', '400','is','great','language'])\n",
        "print(\"Original Data Series:\")\n",
        "print(s1)\n",
        "print(\"Series to an array\")\n",
        "a = np.array(s1.values.tolist())\n",
        "print (a)\n"
      ],
      "execution_count": 10,
      "outputs": [
        {
          "output_type": "stream",
          "text": [
            "Original Data Series:\n",
            "0          100\n",
            "1          200\n",
            "2          300\n",
            "3          400\n",
            "4          500\n",
            "5       python\n",
            "6       300.12\n",
            "7          400\n",
            "8           is\n",
            "9        great\n",
            "10    language\n",
            "dtype: object\n",
            "Series to an array\n",
            "['100' '200' '300' '400' '500' 'python' '300.12' '400' 'is' 'great'\n",
            " 'language']\n"
          ],
          "name": "stdout"
        }
      ]
    },
    {
      "cell_type": "code",
      "metadata": {
        "id": "Jkylilluvfcl",
        "colab_type": "code",
        "colab": {
          "base_uri": "https://localhost:8080/",
          "height": 316
        },
        "outputId": "3ed2c76e-1f2b-4807-a2ed-588696238202"
      },
      "source": [
        "''''7.Write a Pandas program to sort a given Series.\n",
        "Sample series is ['100', '200', ‘300’,’400’,’500’,'python', '300.12', '400',’is’,’great’,’language’]'''\n",
        "import pandas as pd\n",
        "import numpy as np\n",
        "s1 = pd.Series(['100', '200', '300','400','500','python', '300.12', '400','is','great','language'])\n",
        "print(\"Original Data Series:\")\n",
        "print(s1)\n",
        "print(\"Series to an array\")\n",
        "a = np.array(s1.values.tolist())\n",
        "a.sort()\n",
        "print (a)"
      ],
      "execution_count": 11,
      "outputs": [
        {
          "output_type": "stream",
          "text": [
            "Original Data Series:\n",
            "0          100\n",
            "1          200\n",
            "2          300\n",
            "3          400\n",
            "4          500\n",
            "5       python\n",
            "6       300.12\n",
            "7          400\n",
            "8           is\n",
            "9        great\n",
            "10    language\n",
            "dtype: object\n",
            "Series to an array\n",
            "['100' '200' '300' '300.12' '400' '400' '500' 'great' 'is' 'language'\n",
            " 'python']\n"
          ],
          "name": "stdout"
        }
      ]
    },
    {
      "cell_type": "code",
      "metadata": {
        "id": "stTSuZjmvnEq",
        "colab_type": "code",
        "colab": {
          "base_uri": "https://localhost:8080/",
          "height": 428
        },
        "outputId": "f10cc0e4-10df-4768-9240-70624ad65307"
      },
      "source": [
        "''''8.Write a Pandas program to create a subsets of a given series based on value and condition.\n",
        "Sample NumPy array: d1 = [10, 20, 30, 40, 50... 1000] value and condtion : Subset 1 :numbers divisable by 7 Subset 2 : numbers divisable by 5'''\n",
        "import pandas as pd\n",
        "s = pd.Series([0, 1,2,3,4,5,6,7,8,9,10])\n",
        "print(\"Original Data Series:\")\n",
        "print(s)\n",
        "print(\"\\nSubset of the above Data Series:\")\n",
        "n = 6\n",
        "new_s = s[s < n]\n",
        "print(new_s)"
      ],
      "execution_count": 12,
      "outputs": [
        {
          "output_type": "stream",
          "text": [
            "Original Data Series:\n",
            "0      0\n",
            "1      1\n",
            "2      2\n",
            "3      3\n",
            "4      4\n",
            "5      5\n",
            "6      6\n",
            "7      7\n",
            "8      8\n",
            "9      9\n",
            "10    10\n",
            "dtype: int64\n",
            "\n",
            "Subset of the above Data Series:\n",
            "0    0\n",
            "1    1\n",
            "2    2\n",
            "3    3\n",
            "4    4\n",
            "5    5\n",
            "dtype: int64\n"
          ],
          "name": "stdout"
        }
      ]
    },
    {
      "cell_type": "code",
      "metadata": {
        "id": "0Z-9u7Itvu6T",
        "colab_type": "code",
        "colab": {
          "base_uri": "https://localhost:8080/",
          "height": 335
        },
        "outputId": "c60685d7-6658-499a-bac7-ab5a4427e4d0"
      },
      "source": [
        "''''9.Write a Pandas program to create the mean and standard deviation, maximum and minimum of the data of a given Series of the prime numbers upto 1000'''\n",
        "import pandas as pd\n",
        "s = pd.Series(data = [x for x in range(1000) if x%2==0])\n",
        "print(\"Original Data Series:\")\n",
        "print(s)\n",
        "print(\"Mean of the said Data Series:\")\n",
        "print(s.mean())\n",
        "print(\"Standard deviation of the said Data Series:\")\n",
        "print(s.std())"
      ],
      "execution_count": 13,
      "outputs": [
        {
          "output_type": "stream",
          "text": [
            "Original Data Series:\n",
            "0        0\n",
            "1        2\n",
            "2        4\n",
            "3        6\n",
            "4        8\n",
            "      ... \n",
            "495    990\n",
            "496    992\n",
            "497    994\n",
            "498    996\n",
            "499    998\n",
            "Length: 500, dtype: int64\n",
            "Mean of the said Data Series:\n",
            "499.0\n",
            "Standard deviation of the said Data Series:\n",
            "288.9636655359978\n"
          ],
          "name": "stdout"
        }
      ]
    },
    {
      "cell_type": "code",
      "metadata": {
        "id": "rbXI5dcVv4wt",
        "colab_type": "code",
        "colab": {
          "base_uri": "https://localhost:8080/",
          "height": 129
        },
        "outputId": "f91d6ac7-02a9-4b0d-d9fe-d4de170ccba5"
      },
      "source": [
        "'''10.Write a Pandas program to get the elements of an array values into column-wise.\n",
        "Sample data: {‘X’:[All odd numbers but not divisable by 7 upto 1000], 'Y':[ All even numbers but not divisable by 5 upto 1000 ],'Z':[ All odd numbers but not divisable by 3 upto 1000]}'''\n",
        "import pandas as pd\n",
        "df = pd.DataFrame({'X':[78,85,96,80,86], 'Y':[84,94,89,83,86],'Z':[86,97,96,72,83]});\n",
        "print(df)"
      ],
      "execution_count": 14,
      "outputs": [
        {
          "output_type": "stream",
          "text": [
            "    X   Y   Z\n",
            "0  78  84  86\n",
            "1  85  94  97\n",
            "2  96  89  96\n",
            "3  80  83  72\n",
            "4  86  86  83\n"
          ],
          "name": "stdout"
        }
      ]
    },
    {
      "cell_type": "code",
      "metadata": {
        "id": "qZEL6QXCwB51",
        "colab_type": "code",
        "colab": {
          "base_uri": "https://localhost:8080/",
          "height": 243
        },
        "outputId": "8346c83b-afe7-4591-d130-c4b69118c38a"
      },
      "source": [
        "#11.Write a Pandas program to display the first 10 rows of the DataFrame for any particular three fields.\n",
        "import pandas as pd\n",
        "import numpy as np\n",
        "\n",
        "exam_data  = {'name': ['Anastasia', 'Dima', 'Katherine', 'James', 'Emily', 'Michael', 'Matthew', 'Laura', 'Kevin', 'Jonas'],\n",
        "        'score': [12.5, 9, 16.5, np.nan, 9, 20, 14.5, np.nan, 8, 19],\n",
        "        'attempts': [1, 3, 2, 3, 2, 3, 1, 1, 2, 1],\n",
        "        'qualify': ['yes', 'no', 'yes', 'no', 'no', 'yes', 'yes', 'no', 'no', 'yes']}\n",
        "labels = ['a', 'b', 'c', 'd', 'e', 'f', 'g', 'h', 'i', 'j']\n",
        "\n",
        "df = pd.DataFrame(exam_data , index=labels)\n",
        "print(\"First three rows of the data frame:\")\n",
        "print(df.iloc[:3])\n",
        "\n",
        "\n",
        "!pip install -U -q PyDrive\n",
        "from pydrive.auth import GoogleAuth\n",
        "from pydrive.drive import GoogleDrive\n",
        "from google.colab import auth\n",
        "from oauth2client.client import GoogleCredentials\n",
        "\n",
        "\n",
        "auth.authenticate_user()\n",
        "gauth = GoogleAuth()\n",
        "gauth.credentials = GoogleCredentials.get_application_default()\n",
        "drive = GoogleDrive(gauth)\n",
        "\n",
        "downloaded = drive.CreateFile({'id':'1gwMp9H3LPoz_d_UpGwe52S7oY3I7Nq2D'}) # replace the id with id of file you want to access\n",
        "downloaded.GetContentFile('movies_metadata.csv') \n",
        "\n",
        "import pandas as pd\n",
        "xyz = pd.read_csv('movies_metadata.csv') \n",
        "print(xyz.head(1))"
      ],
      "execution_count": 27,
      "outputs": [
        {
          "output_type": "stream",
          "text": [
            "First three rows of the data frame:\n",
            "        name  score  attempts qualify\n",
            "a  Anastasia   12.5         1     yes\n",
            "b       Dima    9.0         3      no\n",
            "c  Katherine   16.5         2     yes\n",
            "   adult  ... vote_count\n",
            "0  False  ...     5415.0\n",
            "\n",
            "[1 rows x 24 columns]\n"
          ],
          "name": "stdout"
        },
        {
          "output_type": "stream",
          "text": [
            "/usr/local/lib/python3.6/dist-packages/IPython/core/interactiveshell.py:2718: DtypeWarning: Columns (10) have mixed types.Specify dtype option on import or set low_memory=False.\n",
            "  interactivity=interactivity, compiler=compiler, result=result)\n"
          ],
          "name": "stderr"
        }
      ]
    },
    {
      "cell_type": "code",
      "metadata": {
        "id": "8H-qT3JOy_g5",
        "colab_type": "code",
        "colab": {
          "base_uri": "https://localhost:8080/",
          "height": 561
        },
        "outputId": "b45255a5-ead8-46f0-97bb-4f280c3ef22c"
      },
      "source": [
        "'''12.Write a Pandas program to get the details of the seventh movie of the DataFrame for any particular three fields #(movie_metadata.csv file)'''\n",
        "import pandas as pd\n",
        "df = pd.read_csv('movies_metadata.csv')\n",
        "seventh_movie = df.iloc[3]\n",
        "print(\"Details of the seventh movie:\")\n",
        "print(seventh_movie)"
      ],
      "execution_count": 28,
      "outputs": [
        {
          "output_type": "stream",
          "text": [
            "Details of the seventh movie:\n",
            "adult                                                                False\n",
            "belongs_to_collection                                                  NaN\n",
            "budget                                                            16000000\n",
            "genres                   [{'id': 35, 'name': 'Comedy'}, {'id': 18, 'nam...\n",
            "homepage                                                               NaN\n",
            "id                                                                   31357\n",
            "imdb_id                                                          tt0114885\n",
            "original_language                                                       en\n",
            "original_title                                           Waiting to Exhale\n",
            "overview                 Cheated on, mistreated and stepped on, the wom...\n",
            "popularity                                                         3.85949\n",
            "poster_path                               /16XOMpEaLWkrcPqSQqhTmeJuqQl.jpg\n",
            "production_companies     [{'name': 'Twentieth Century Fox Film Corporat...\n",
            "production_countries     [{'iso_3166_1': 'US', 'name': 'United States o...\n",
            "release_date                                                    1995-12-22\n",
            "revenue                                                        8.14522e+07\n",
            "runtime                                                                127\n",
            "spoken_languages                  [{'iso_639_1': 'en', 'name': 'English'}]\n",
            "status                                                            Released\n",
            "tagline                  Friends are the people who let you be yourself...\n",
            "title                                                    Waiting to Exhale\n",
            "video                                                                False\n",
            "vote_average                                                           6.1\n",
            "vote_count                                                              34\n",
            "Name: 3, dtype: object\n"
          ],
          "name": "stdout"
        },
        {
          "output_type": "stream",
          "text": [
            "/usr/local/lib/python3.6/dist-packages/IPython/core/interactiveshell.py:2718: DtypeWarning: Columns (10) have mixed types.Specify dtype option on import or set low_memory=False.\n",
            "  interactivity=interactivity, compiler=compiler, result=result)\n"
          ],
          "name": "stderr"
        }
      ]
    },
    {
      "cell_type": "code",
      "metadata": {
        "id": "hz4In5UR7uQK",
        "colab_type": "code",
        "colab": {
          "base_uri": "https://localhost:8080/",
          "height": 355
        },
        "outputId": "e616adad-753d-4bc3-97e9-234cfd12660f"
      },
      "source": [
        "#13.Write a Pandas program to sort the DataFrame based on title_year from dataset of movie_metadata.csv for any particular three fields\n",
        "import pandas as pd\n",
        "df = pd.read_csv('movies_metadata.csv')\n",
        "result = df[['title', 'genres']]\n",
        "print(\"Details of title and genres:\")\n",
        "print(result)"
      ],
      "execution_count": 29,
      "outputs": [
        {
          "output_type": "stream",
          "text": [
            "Details of title and genres:\n",
            "                             title                                             genres\n",
            "0                        Toy Story  [{'id': 16, 'name': 'Animation'}, {'id': 35, '...\n",
            "1                          Jumanji  [{'id': 12, 'name': 'Adventure'}, {'id': 14, '...\n",
            "2                 Grumpier Old Men  [{'id': 10749, 'name': 'Romance'}, {'id': 35, ...\n",
            "3                Waiting to Exhale  [{'id': 35, 'name': 'Comedy'}, {'id': 18, 'nam...\n",
            "4      Father of the Bride Part II                     [{'id': 35, 'name': 'Comedy'}]\n",
            "...                            ...                                                ...\n",
            "45461                       Subdue  [{'id': 18, 'name': 'Drama'}, {'id': 10751, 'n...\n",
            "45462          Century of Birthing                      [{'id': 18, 'name': 'Drama'}]\n",
            "45463                     Betrayal  [{'id': 28, 'name': 'Action'}, {'id': 18, 'nam...\n",
            "45464             Satan Triumphant                                                 []\n",
            "45465                     Queerama                                                 []\n",
            "\n",
            "[45466 rows x 2 columns]\n"
          ],
          "name": "stdout"
        },
        {
          "output_type": "stream",
          "text": [
            "/usr/local/lib/python3.6/dist-packages/IPython/core/interactiveshell.py:2718: DtypeWarning: Columns (10) have mixed types.Specify dtype option on import or set low_memory=False.\n",
            "  interactivity=interactivity, compiler=compiler, result=result)\n"
          ],
          "name": "stderr"
        }
      ]
    },
    {
      "cell_type": "code",
      "metadata": {
        "id": "c35uC_xg8HPu",
        "colab_type": "code",
        "colab": {
          "base_uri": "https://localhost:8080/",
          "height": 93
        },
        "outputId": "b317871f-184f-4f91-a5cd-3e72c550cb84"
      },
      "source": [
        "#14.Write a Pandas program to sort the DataFrame based on country and language from dataset of movie_metadata.csv\n",
        "import pandas as pd\n",
        "df = pd.read_csv('movies_metadata.csv')\n",
        "# Create a smaller dataframe\n",
        "small_df = df[['title', 'release_date', 'budget', 'revenue', 'runtime']]\n",
        "result = small_df.sort_values('release_date')\n",
        "print(\"DataFrame based on country and language.\")"
      ],
      "execution_count": 30,
      "outputs": [
        {
          "output_type": "stream",
          "text": [
            "DataFrame based on country and language.\n"
          ],
          "name": "stdout"
        },
        {
          "output_type": "stream",
          "text": [
            "/usr/local/lib/python3.6/dist-packages/IPython/core/interactiveshell.py:2718: DtypeWarning: Columns (10) have mixed types.Specify dtype option on import or set low_memory=False.\n",
            "  interactivity=interactivity, compiler=compiler, result=result)\n"
          ],
          "name": "stderr"
        }
      ]
    },
    {
      "cell_type": "code",
      "metadata": {
        "id": "fUrKhdlx8WYx",
        "colab_type": "code",
        "colab": {
          "base_uri": "https://localhost:8080/",
          "height": 111
        },
        "outputId": "b346e175-1acd-41f9-b656-4adb07164b99"
      },
      "source": [
        "#15.Write a NumPy program to create a random 4x4 array and extract the 2nd and 3rd rows of the array and store them into a variable\n",
        "import numpy as np\n",
        "x = np.random.random((4,4))\n",
        "print(\"Original Array:\")\n",
        "print(x) "
      ],
      "execution_count": 31,
      "outputs": [
        {
          "output_type": "stream",
          "text": [
            "Original Array:\n",
            "[[0.3782085  0.3911801  0.85500494 0.58303189]\n",
            " [0.92246843 0.20986586 0.5343452  0.07880342]\n",
            " [0.46532421 0.18182235 0.11058337 0.93121902]\n",
            " [0.92294888 0.01156965 0.18163926 0.83084019]]\n"
          ],
          "name": "stdout"
        }
      ]
    },
    {
      "cell_type": "code",
      "metadata": {
        "id": "hJWFazb4zlSj",
        "colab_type": "code",
        "colab": {
          "base_uri": "https://localhost:8080/",
          "height": 447
        },
        "outputId": "c49ad1f7-24cc-4fc8-c0ae-68f567dbc098"
      },
      "source": [
        "#16.Write a NumPy program to create a 10x10 array with random values and find the minimum and maximum values.\n",
        "import numpy as np\n",
        "x = np.random.random((10,10))\n",
        "print(\"Original Array:\")\n",
        "print(x) \n",
        "xmin, xmax = x.min(), x.max()\n",
        "print(\"Minimum and Maximum Values:\")\n",
        "print(xmin, xmax)"
      ],
      "execution_count": 19,
      "outputs": [
        {
          "output_type": "stream",
          "text": [
            "Original Array:\n",
            "[[0.88114298 0.61855662 0.26163178 0.98390493 0.00739673 0.01188585\n",
            "  0.75664081 0.46717309 0.84096271 0.52091279]\n",
            " [0.95432722 0.03878093 0.83124033 0.00495074 0.26430021 0.3711765\n",
            "  0.55781886 0.11286329 0.76796364 0.20968593]\n",
            " [0.93095768 0.92593264 0.05437909 0.69926123 0.17825024 0.18455366\n",
            "  0.18625788 0.76730128 0.91522373 0.75551332]\n",
            " [0.05401939 0.50450672 0.6361596  0.53455928 0.73674863 0.08888833\n",
            "  0.84523221 0.06818668 0.8704894  0.62228537]\n",
            " [0.94487437 0.00322198 0.98245946 0.37976401 0.262985   0.30922272\n",
            "  0.12440585 0.84426303 0.41240844 0.02498087]\n",
            " [0.38695451 0.6844299  0.06284409 0.02598792 0.08320747 0.84138022\n",
            "  0.82374503 0.78389878 0.83984406 0.11330358]\n",
            " [0.7609476  0.39302229 0.04802141 0.86116574 0.97283509 0.26754208\n",
            "  0.9908818  0.89346832 0.10808788 0.5222767 ]\n",
            " [0.49383383 0.79707397 0.33338506 0.16441383 0.70660267 0.88313784\n",
            "  0.05941754 0.25521544 0.94985366 0.90247809]\n",
            " [0.41770774 0.53864352 0.44940356 0.26030773 0.31440789 0.65002635\n",
            "  0.43853939 0.38535793 0.40955775 0.56809227]\n",
            " [0.90485    0.21308512 0.32319735 0.30603754 0.79164396 0.34937631\n",
            "  0.8593766  0.10790289 0.23687707 0.3788918 ]]\n",
            "Minimum and Maximum Values:\n",
            "0.0032219770641730427 0.9908817955563873\n"
          ],
          "name": "stdout"
        }
      ]
    },
    {
      "cell_type": "code",
      "metadata": {
        "id": "80aB7oaLzuP_",
        "colab_type": "code",
        "colab": {
          "base_uri": "https://localhost:8080/",
          "height": 36
        },
        "outputId": "341d6fcd-ad96-408a-972d-9fe5231bd71c"
      },
      "source": [
        "#17.Write a NumPy program to generate 8 random integers between 100 and 300\n",
        "import numpy as np\n",
        "x = np.random.randint(low=100, high=300, size=8)\n",
        "print(x)"
      ],
      "execution_count": 20,
      "outputs": [
        {
          "output_type": "stream",
          "text": [
            "[246 205 200 181 195 278 115 131]\n"
          ],
          "name": "stdout"
        }
      ]
    },
    {
      "cell_type": "code",
      "metadata": {
        "id": "GBWH8rgxz0hn",
        "colab_type": "code",
        "colab": {
          "base_uri": "https://localhost:8080/",
          "height": 204
        },
        "outputId": "cecc0a02-7d50-4e18-8952-1e6440298c61"
      },
      "source": [
        "#18.Write a NumPy program to create a random integer nos of size 20 and sort it\n",
        "import numpy as np\n",
        "x = np.random.random(20)\n",
        "print(\"Original array:\")\n",
        "print(x)\n",
        "x.sort()\n",
        "print(\"Sorted array:\")\n",
        "print(x)"
      ],
      "execution_count": 21,
      "outputs": [
        {
          "output_type": "stream",
          "text": [
            "Original array:\n",
            "[0.1597925  0.3626327  0.92320514 0.19295948 0.30064707 0.85970814\n",
            " 0.13685796 0.83043947 0.82159598 0.77105196 0.48885054 0.55740252\n",
            " 0.41349589 0.2415241  0.26915271 0.53189005 0.16828631 0.19087403\n",
            " 0.55946516 0.30418246]\n",
            "Sorted array:\n",
            "[0.13685796 0.1597925  0.16828631 0.19087403 0.19295948 0.2415241\n",
            " 0.26915271 0.30064707 0.30418246 0.3626327  0.41349589 0.48885054\n",
            " 0.53189005 0.55740252 0.55946516 0.77105196 0.82159598 0.83043947\n",
            " 0.85970814 0.92320514]\n"
          ],
          "name": "stdout"
        }
      ]
    }
  ]
}