{
  "nbformat": 4,
  "nbformat_minor": 0,
  "metadata": {
    "colab": {
      "name": "Day1S2-Exercise.ipynb",
      "provenance": [],
      "collapsed_sections": [],
      "authorship_tag": "ABX9TyOFiXP6btK7W9gstd8uYp+J",
      "include_colab_link": true
    },
    "kernelspec": {
      "name": "python3",
      "display_name": "Python 3"
    }
  },
  "cells": [
    {
      "cell_type": "markdown",
      "metadata": {
        "id": "view-in-github",
        "colab_type": "text"
      },
      "source": [
        "<a href=\"https://colab.research.google.com/github/alvas-education-foundation/Srilatha-K-Kamath-Daily-Report/blob/master/Day1S2_Exercise.ipynb\" target=\"_parent\"><img src=\"https://colab.research.google.com/assets/colab-badge.svg\" alt=\"Open In Colab\"/></a>"
      ]
    },
    {
      "cell_type": "markdown",
      "metadata": {
        "id": "PJUgwZV5mlWz",
        "colab_type": "text"
      },
      "source": [
        "1 Write a program to print the triangle i/p 4\n",
        "\n",
        "1\n",
        "\n",
        "2 3\n",
        "\n",
        "3 4 5\n",
        "\n",
        "4 5 6 7\n"
      ]
    },
    {
      "cell_type": "code",
      "metadata": {
        "id": "eP9Epad5me9B",
        "colab_type": "code",
        "outputId": "053dd189-c736-4209-a17b-3eea4e1d0b99",
        "colab": {
          "base_uri": "https://localhost:8080/",
          "height": 109
        }
      },
      "source": [
        "n=int(input('Enter the value of n '))\n",
        "num=1\n",
        "for i in range(1,n+1):\n",
        "  num=i\n",
        "  for j in range(i):\n",
        "    print(num,end=\" \")\n",
        "    num=num+1\n",
        "  print()"
      ],
      "execution_count": 0,
      "outputs": [
        {
          "output_type": "stream",
          "text": [
            "Enter the value of n 4\n",
            "1 \n",
            "2 3 \n",
            "3 4 5 \n",
            "4 5 6 7 \n"
          ],
          "name": "stdout"
        }
      ]
    },
    {
      "cell_type": "code",
      "metadata": {
        "id": "GBoM6WrwnFMB",
        "colab_type": "code",
        "outputId": "5597e85c-53fc-4d30-cb89-eff1d5c9be02",
        "colab": {
          "base_uri": "https://localhost:8080/",
          "height": 109
        }
      },
      "source": [
        "\"\"\"\"2.Enter number 4\n",
        "\n",
        "*\n",
        "* *\n",
        "* * *\n",
        "* * * *\"\"\"\n",
        "num=int(input('Enter the value of n '))\n",
        "for i in range(1,n+1):\n",
        "  for j in range(i):\n",
        "    print('*',end=\" \")\n",
        "  print()"
      ],
      "execution_count": 0,
      "outputs": [
        {
          "output_type": "stream",
          "text": [
            "Enter the value of n 4\n",
            "* \n",
            "* * \n",
            "* * * \n",
            "* * * * \n"
          ],
          "name": "stdout"
        }
      ]
    },
    {
      "cell_type": "markdown",
      "metadata": {
        "id": "opkDDMO1nR65",
        "colab_type": "text"
      },
      "source": [
        "3.Enter number 5\n",
        "\n",
        "5\n",
        "\n",
        "4 5\n",
        "\n",
        "3 4 5\n",
        "\n",
        "2 3 4 5\n",
        "\n",
        "1 2 3 4 5\n"
      ]
    },
    {
      "cell_type": "code",
      "metadata": {
        "id": "WAxtAFc8ngzG",
        "colab_type": "code",
        "outputId": "7f8893de-e5fc-4589-fdfe-ce1d541bb928",
        "colab": {
          "base_uri": "https://localhost:8080/",
          "height": 146
        }
      },
      "source": [
        "n=int(input('Enter the value of n: '))\n",
        "for i in range(n+1,0,-1):\n",
        "  num=i\n",
        "  for j in range(i,n+1):\n",
        "    print(num,end=\" \")\n",
        "    num+=1\n",
        "  print()"
      ],
      "execution_count": 0,
      "outputs": [
        {
          "output_type": "stream",
          "text": [
            "Enter the value of n: 5\n",
            "\n",
            "5 \n",
            "4 5 \n",
            "3 4 5 \n",
            "2 3 4 5 \n",
            "1 2 3 4 5 \n"
          ],
          "name": "stdout"
        }
      ]
    },
    {
      "cell_type": "markdown",
      "metadata": {
        "id": "thdepcTEnlsl",
        "colab_type": "text"
      },
      "source": [
        "4 Enter number 5\n",
        "\n",
        "5 4 3 2 1\n",
        "\n",
        "4 3 2 1\n",
        "\n",
        "3 2 1\n",
        "\n",
        "2 1\n",
        "\n",
        "1\n"
      ]
    },
    {
      "cell_type": "code",
      "metadata": {
        "id": "sUOMnHT-npCY",
        "colab_type": "code",
        "outputId": "4fa1d774-5868-4189-c526-99bbf626e748",
        "colab": {
          "base_uri": "https://localhost:8080/",
          "height": 127
        }
      },
      "source": [
        "n=int(input('Enter the value of n '))\n",
        "for i in range(n,0,-1):\n",
        "  for j in range(i,0,-1):\n",
        "    print(j,end=\" \")\n",
        "  print()"
      ],
      "execution_count": 0,
      "outputs": [
        {
          "output_type": "stream",
          "text": [
            "Enter the value of n 5\n",
            "5 4 3 2 1 \n",
            "4 3 2 1 \n",
            "3 2 1 \n",
            "2 1 \n",
            "1 \n"
          ],
          "name": "stdout"
        }
      ]
    },
    {
      "cell_type": "markdown",
      "metadata": {
        "id": "jYDBjkdYnuCT",
        "colab_type": "text"
      },
      "source": [
        "5 Enter number 4\n",
        "\n",
        "1 2 3 4\n",
        "\n",
        "2 3 4\n",
        "\n",
        "3 4\n",
        "\n",
        "4\n",
        "\n",
        "3 4\n",
        "\n",
        "2 3 4\n",
        "\n",
        "1 2 3 4\n"
      ]
    },
    {
      "cell_type": "code",
      "metadata": {
        "id": "CNPrxNfGnx3y",
        "colab_type": "code",
        "outputId": "7fb78cf1-e67d-4f63-9df3-08f1db8dc2eb",
        "colab": {
          "base_uri": "https://localhost:8080/",
          "height": 164
        }
      },
      "source": [
        "n=int(input('Enter the value of n '))\n",
        "for i in range(1,n+1):\n",
        "  for j in range(i,n+1):\n",
        "    print(j,end=\" \")\n",
        "  print()\n",
        "for i in range(n-1,0,-1):\n",
        "  for j in range(i,n+1):\n",
        "    print(j,end=\" \")\n",
        "  print()  \n",
        "  "
      ],
      "execution_count": 0,
      "outputs": [
        {
          "output_type": "stream",
          "text": [
            "Enter the value of n 4\n",
            "1 2 3 4 \n",
            "2 3 4 \n",
            "3 4 \n",
            "4 \n",
            "3 4 \n",
            "2 3 4 \n",
            "1 2 3 4 \n"
          ],
          "name": "stdout"
        }
      ]
    },
    {
      "cell_type": "markdown",
      "metadata": {
        "id": "L9IOdkmYoEN1",
        "colab_type": "text"
      },
      "source": [
        "6 Find the length of a string without using len functions"
      ]
    },
    {
      "cell_type": "code",
      "metadata": {
        "id": "bC22mih7oHkV",
        "colab_type": "code",
        "outputId": "b6eaf329-7398-435e-acd1-e033d525660f",
        "colab": {
          "base_uri": "https://localhost:8080/",
          "height": 54
        }
      },
      "source": [
        "string=input('Enter the String ')\n",
        "count=0\n",
        "for word in string:\n",
        "  for i in word:\n",
        "    count+=1\n",
        "print('The length of the string is ',count)"
      ],
      "execution_count": 0,
      "outputs": [
        {
          "output_type": "stream",
          "text": [
            "Enter the String It's a rainy day.\n",
            "The length of the string is  17\n"
          ],
          "name": "stdout"
        }
      ]
    },
    {
      "cell_type": "markdown",
      "metadata": {
        "id": "jzg6HQfSoRQm",
        "colab_type": "text"
      },
      "source": [
        "7 Find the no of words and characters in a string\n"
      ]
    },
    {
      "cell_type": "code",
      "metadata": {
        "id": "a-HGXrvGoVAO",
        "colab_type": "code",
        "outputId": "4d40e616-081a-44b4-9f92-3b4161690c20",
        "colab": {
          "base_uri": "https://localhost:8080/",
          "height": 72
        }
      },
      "source": [
        "string=input('Enter the String ')\n",
        "wordcount=0\n",
        "charcount=0\n",
        "for word in string.split():\n",
        "  wordcount+=1\n",
        "  for i in word:\n",
        "    if(len(i)>0):\n",
        "      charcount+=1\n",
        "print('Word count is ',wordcount)\n",
        "print('Character count is ',charcount)"
      ],
      "execution_count": 0,
      "outputs": [
        {
          "output_type": "stream",
          "text": [
            "Enter the String It's a rainy day.\n",
            "Word count is  4\n",
            "Character count is  14\n"
          ],
          "name": "stdout"
        }
      ]
    },
    {
      "cell_type": "markdown",
      "metadata": {
        "id": "GVfxDNG6ohNS",
        "colab_type": "text"
      },
      "source": [
        "8 Find the no of occurrences of a word in a string"
      ]
    },
    {
      "cell_type": "code",
      "metadata": {
        "id": "yGauRdeloj5R",
        "colab_type": "code",
        "outputId": "0127a55f-ea3e-4055-8a4f-1a05ba7a41b3",
        "colab": {
          "base_uri": "https://localhost:8080/",
          "height": 54
        }
      },
      "source": [
        "def word_count(str):\n",
        "    counts = dict()\n",
        "    words = str.split()\n",
        "\n",
        "    for word in words:\n",
        "        if word in counts:\n",
        "            counts[word] += 1\n",
        "        else:\n",
        "            counts[word] = 1\n",
        "\n",
        "    return counts\n",
        "\n",
        "string=input('Enter the String ')\n",
        "print( word_count(string))"
      ],
      "execution_count": 0,
      "outputs": [
        {
          "output_type": "stream",
          "text": [
            "Enter the String My reputation's never been worse.\n",
            "{'My': 1, \"reputation's\": 1, 'never': 1, 'been': 1, 'worse.': 1}\n"
          ],
          "name": "stdout"
        }
      ]
    }
  ]
}